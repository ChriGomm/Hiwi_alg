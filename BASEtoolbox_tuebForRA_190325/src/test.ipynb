{
 "cells": [
  {
   "cell_type": "code",
   "execution_count": 8,
   "id": "c89876e3",
   "metadata": {},
   "outputs": [
    {
     "data": {
      "text/plain": [
       "array([ 5, 14, 23])"
      ]
     },
     "execution_count": 8,
     "metadata": {},
     "output_type": "execute_result"
    }
   ],
   "source": [
    "import numpy as np\n",
    "import pandas as pd\n",
    "a = np.arange(9).reshape(3,3)\n",
    "b = np.arange(3)\n",
    "np.matmul(a,b)"
   ]
  },
  {
   "cell_type": "code",
   "execution_count": 9,
   "id": "c2db4f38",
   "metadata": {},
   "outputs": [],
   "source": [
    "folder_path = \"update_funk_500_on_500_each_300/\"\n",
    "ma = pd.read_csv(folder_path+'m_star1_a.csv',delimiter=';',header=None).to_numpy()[:,:-1]\n",
    "ka = pd.read_csv(folder_path+'k_star1_a.csv',delimiter=';',header=None).to_numpy()[:,:-1]\n",
    "mn = pd.read_csv(folder_path+'m_star1_n.csv',delimiter=';',header=None).to_numpy()[:,:-1]\n",
    "\n",
    "m = np.linspace(0,np.sqrt(500),300)**2\n",
    "k = np.linspace(0,np.sqrt(500),300)**2\n",
    "m_bins = (m[1:]+m[:-1])/2\n",
    "m_bins[1:] = m_bins[:-1]\n",
    "m_bins[0] =0\n",
    "k_bins = (k[1:]+k[:-1])/2\n",
    "k_bins[1:] = k_bins[:-1]\n",
    "k_bins[0] =0\n",
    "\n",
    "def bin_(ka,k,bins):\n",
    "    ka_bins = np.digitize(ka,bins)-1\n",
    "    ka_bined = m[np.where(ka_bins<0,0,ka_bins)]\n",
    "    ka_bined = np.where(ka_bins==k.shape[0]-1,-np.inf,ka_bined)\n",
    "    return ka_bined, ka_bins#, np.where(ka_bins==k.shape[0]-1,False,True)\n",
    "ka_bined, ka_bins = bin_(ka,k,k_bins)\n",
    "mn_bined, ma_bins = bin_(mn,m,m_bins)\n",
    "ma_bined, mn_bins = bin_(ma,m,m_bins)\n",
    "a_bins = np.dstack((ma_bins,ka_bins))"
   ]
  },
  {
   "cell_type": "code",
   "execution_count": null,
   "id": "6df5b8d3",
   "metadata": {},
   "outputs": [],
   "source": [
    "lam = 0.065\n",
    "# from cupy.scipy.sparse import coo_array\n",
    "from scipy.sparse import coo_array\n",
    "# q_mat_a = np.zeros((k.shape[0]**2,k.shape[0]**2))\n",
    "indices= np.zeros((k.shape[0]**2,2))\n",
    "coordinates_old = []\n",
    "coordinates_new = []\n",
    "\n",
    "inverse = np.zeros((len(m),len(k),2,820))\n",
    "inverse_count = np.zeros((len(m),len(k)),dtype=np.int32)\n",
    "for i in range(len(k)):\n",
    "    for j in range(len(m)):\n",
    "#         inverse[a_bins[i,j,0],a_bins[i,j,1],:,inverse_count[a_bins[i,j,0],a_bins[i,j,1]]]=[i,j]\n",
    "#         inverse_count[a_bins[i,j,0],a_bins[i,j,1]]+=1\n",
    "# for i in range(len(k)):\n",
    "#     for j in range(len(m)):\n",
    "#         for l in range(inverse_count[i,j]):\n",
    "            # coordinates_new.append(i+len(m)*j)\n",
    "            # coordinates_old.append(inverse[i,j,0,l]+len(m)*inverse[i,j,1,l])\n",
    "            coordinates_old.append(i+len(m)*j)\n",
    "            coordinates_new.append(a_bins[i,j,0]+len(m)*a_bins[i,j,1])\n",
    "data = np.ones(len(coordinates_new),dtype=np.float16)*lam\n",
    "\n",
    "q_mat_a = coo_array((data,(coordinates_new,coordinates_old)),shape=(k.shape[0]**2,k.shape[0]**2),dtype=np.float64)            \n",
    "\n",
    "        # indices[i+j*len(m)] = [i,j]\n",
    "        # if ((i,j) in bins_2d_a):\n",
    "        #     for l in range(len(m)):\n",
    "        #         for n in range(len(k)):\n",
    "        #             if np.all([i,j]==a_bins[l,n]):\n",
    "        #                 coordinates.append([i+j*len(m),l+n*len(m)])\n",
    "        #                 q_mat_a[i+j*len(m),l+n*len(m)]=lam\n",
    "# np.max(inverse_count)"
   ]
  },
  {
   "cell_type": "code",
   "execution_count": 11,
   "id": "388b0dd6",
   "metadata": {},
   "outputs": [],
   "source": [
    "indices= np.zeros((k.shape[0]**2,2))\n",
    "coordinates_old = []\n",
    "coordinates_new = []\n",
    "\n",
    "inverse = np.zeros((len(m),len(k),2,820))\n",
    "inverse_count = np.zeros((len(m),len(k)),dtype=np.int32)\n",
    "for i in range(len(k)):\n",
    "    for j in range(len(m)):\n",
    "#         inverse[mn_bins[i,j],j,:,inverse_count[mn_bins[i,j],j]]=[i,j]\n",
    "#         inverse_count[mn_bins[i,j],j]+=1\n",
    "# for i in range(len(k)):\n",
    "#     for j in range(len(m)):\n",
    "#         for l in range(inverse_count[i,j]):\n",
    "            # coordinates_new.append(i+len(m)*j)\n",
    "            # coordinates_old.append(inverse[i,j,0,l]+len(m)*inverse[i,j,1,l])\n",
    "            coordinates_old.append(i+len(m)*j)\n",
    "            coordinates_new.append(mn_bins[i,j]+len(m)*j)\n",
    "data = np.ones(len(coordinates_new),dtype=np.float16)*(1-lam)\n",
    "q_mat_n = coo_array((data,(np.array(coordinates_new),np.array(coordinates_old))),shape=(k.shape[0]**2,k.shape[0]**2),dtype=np.float64)     "
   ]
  },
  {
   "cell_type": "code",
   "execution_count": null,
   "id": "5f781763",
   "metadata": {},
   "outputs": [],
   "source": [
    "\n",
    "q_mat = q_mat_a + q_mat_n\n",
    "from scipy.sparse.linalg import eigs\n",
    "eig_vals, eig_vecs = eigs(q_mat,k=4)\n",
    "eig_vals"
   ]
  },
  {
   "cell_type": "code",
   "execution_count": null,
   "id": "f1697db4",
   "metadata": {},
   "outputs": [],
   "source": [
    "pdf_grid = np.zeros_like(ka)\n",
    "for i in range(len(m)):\n",
    "    for j in range(len(k)):\n",
    "        pdf_grid[i,j] = eig_vecs[0,i+len(m)*j]\n",
    "\n",
    "pdf_k = np.sum(pdf_grid,axis=0)\n",
    "cdf_bcondk = np.matmul(np.cumsum(pdf_grid,axis=0),1/pdf_k)\n",
    "import matplotlib.pyplot as plt"
   ]
  }
 ],
 "metadata": {
  "kernelspec": {
   "display_name": "Python 3",
   "language": "python",
   "name": "python3"
  },
  "language_info": {
   "codemirror_mode": {
    "name": "ipython",
    "version": 3
   },
   "file_extension": ".py",
   "mimetype": "text/x-python",
   "name": "python",
   "nbconvert_exporter": "python",
   "pygments_lexer": "ipython3",
   "version": "3.10.12"
  }
 },
 "nbformat": 4,
 "nbformat_minor": 5
}
