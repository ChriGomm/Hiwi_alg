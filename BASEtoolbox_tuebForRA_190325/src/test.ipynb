{
 "cells": [
  {
   "cell_type": "code",
   "execution_count": 8,
   "id": "c89876e3",
   "metadata": {},
   "outputs": [
    {
     "data": {
      "text/plain": [
       "array([ 5, 14, 23])"
      ]
     },
     "execution_count": 8,
     "metadata": {},
     "output_type": "execute_result"
    }
   ],
   "source": [
    "import numpy as np\n",
    "import pandas as pd\n",
    "a = np.arange(9).reshape(3,3)\n",
    "b = np.arange(3)\n",
    "np.matmul(a,b)"
   ]
  },
  {
   "cell_type": "code",
   "execution_count": 9,
   "id": "c2db4f38",
   "metadata": {},
   "outputs": [],
   "source": [
    "folder_path = \"update_funk_500_on_500_each_300/\"\n",
    "ma = pd.read_csv(folder_path+'m_star1_a.csv',delimiter=';',header=None).to_numpy()[:,:-1]\n",
    "ka = pd.read_csv(folder_path+'k_star1_a.csv',delimiter=';',header=None).to_numpy()[:,:-1]\n",
    "mn = pd.read_csv(folder_path+'m_star1_n.csv',delimiter=';',header=None).to_numpy()[:,:-1]\n",
    "\n",
    "m = np.linspace(0,np.sqrt(500),300)**2\n",
    "k = np.linspace(0,np.sqrt(500),300)**2\n",
    "m_bins = (m[1:]+m[:-1])/2\n",
    "m_bins[1:] = m_bins[:-1]\n",
    "m_bins[0] =0\n",
    "k_bins = (k[1:]+k[:-1])/2\n",
    "k_bins[1:] = k_bins[:-1]\n",
    "k_bins[0] =0\n",
    "\n",
    "def bin_(ka,k,bins):\n",
    "    ka_bins = np.digitize(ka,bins)-1\n",
    "    ka_bined = m[np.where(ka_bins<0,0,ka_bins)]\n",
    "    ka_bined = np.where(ka_bins==k.shape[0]-1,-np.inf,ka_bined)\n",
    "    return ka_bined, ka_bins#, np.where(ka_bins==k.shape[0]-1,False,True)\n",
    "ka_bined, ka_bins = bin_(ka,k,k_bins)\n",
    "mn_bined, ma_bins = bin_(mn,m,m_bins)\n",
    "ma_bined, mn_bins = bin_(ma,m,m_bins)\n",
    "a_bins = np.dstack((ma_bins,ka_bins))"
   ]
  },
  {
   "cell_type": "code",
   "execution_count": null,
   "id": "6df5b8d3",
   "metadata": {},
   "outputs": [],
   "source": [
    "lam = 0.065\n",
    "# from cupy.scipy.sparse import coo_array\n",
    "from scipy.sparse import coo_array\n",
    "# q_mat_a = np.zeros((k.shape[0]**2,k.shape[0]**2))\n",
    "indices= np.zeros((k.shape[0]**2,2))\n",
    "coordinates_old = []\n",
    "coordinates_new = []\n",
    "\n",
    "inverse = np.zeros((len(m),len(k),2,820))\n",
    "inverse_count = np.zeros((len(m),len(k)),dtype=np.int32)\n",
    "for i in range(len(k)):\n",
    "    for j in range(len(m)):\n",
    "#         inverse[a_bins[i,j,0],a_bins[i,j,1],:,inverse_count[a_bins[i,j,0],a_bins[i,j,1]]]=[i,j]\n",
    "#         inverse_count[a_bins[i,j,0],a_bins[i,j,1]]+=1\n",
    "# for i in range(len(k)):\n",
    "#     for j in range(len(m)):\n",
    "#         for l in range(inverse_count[i,j]):\n",
    "            # coordinates_new.append(i+len(m)*j)\n",
    "            # coordinates_old.append(inverse[i,j,0,l]+len(m)*inverse[i,j,1,l])\n",
    "            coordinates_old.append(i+len(m)*j)\n",
    "            coordinates_new.append(a_bins[i,j,0]+len(m)*a_bins[i,j,1])\n",
    "data = np.ones(len(coordinates_new),dtype=np.float16)*lam\n",
    "\n",
    "q_mat_a = coo_array((data,(coordinates_new,coordinates_old)),shape=(k.shape[0]**2,k.shape[0]**2),dtype=np.float64)            \n",
    "\n",
    "        # indices[i+j*len(m)] = [i,j]\n",
    "        # if ((i,j) in bins_2d_a):\n",
    "        #     for l in range(len(m)):\n",
    "        #         for n in range(len(k)):\n",
    "        #             if np.all([i,j]==a_bins[l,n]):\n",
    "        #                 coordinates.append([i+j*len(m),l+n*len(m)])\n",
    "        #                 q_mat_a[i+j*len(m),l+n*len(m)]=lam\n",
    "# np.max(inverse_count)"
   ]
  },
  {
   "cell_type": "code",
   "execution_count": 11,
   "id": "388b0dd6",
   "metadata": {},
   "outputs": [],
   "source": [
    "indices= np.zeros((k.shape[0]**2,2))\n",
    "coordinates_old = []\n",
    "coordinates_new = []\n",
    "\n",
    "inverse = np.zeros((len(m),len(k),2,820))\n",
    "inverse_count = np.zeros((len(m),len(k)),dtype=np.int32)\n",
    "for i in range(len(k)):\n",
    "    for j in range(len(m)):\n",
    "#         inverse[mn_bins[i,j],j,:,inverse_count[mn_bins[i,j],j]]=[i,j]\n",
    "#         inverse_count[mn_bins[i,j],j]+=1\n",
    "# for i in range(len(k)):\n",
    "#     for j in range(len(m)):\n",
    "#         for l in range(inverse_count[i,j]):\n",
    "            # coordinates_new.append(i+len(m)*j)\n",
    "            # coordinates_old.append(inverse[i,j,0,l]+len(m)*inverse[i,j,1,l])\n",
    "            coordinates_old.append(i+len(m)*j)\n",
    "            coordinates_new.append(mn_bins[i,j]+len(m)*j)\n",
    "data = np.ones(len(coordinates_new),dtype=np.float16)*(1-lam)\n",
    "q_mat_n = coo_array((data,(np.array(coordinates_new),np.array(coordinates_old))),shape=(k.shape[0]**2,k.shape[0]**2),dtype=np.float64)     "
   ]
  },
  {
   "cell_type": "code",
   "execution_count": 12,
   "id": "5f781763",
   "metadata": {},
   "outputs": [
    {
     "ename": "ArpackNoConvergence",
     "evalue": "ARPACK error -1: No convergence (900001 iterations, 1/4 eigenvectors converged)",
     "output_type": "error",
     "traceback": [
      "\u001b[0;31m---------------------------------------------------------------------------\u001b[0m",
      "\u001b[0;31mArpackNoConvergence\u001b[0m                       Traceback (most recent call last)",
      "Cell \u001b[0;32mIn[12], line 3\u001b[0m\n\u001b[1;32m      1\u001b[0m q_mat \u001b[38;5;241m=\u001b[39m q_mat_a \u001b[38;5;241m+\u001b[39m q_mat_n\n\u001b[1;32m      2\u001b[0m \u001b[38;5;28;01mfrom\u001b[39;00m \u001b[38;5;21;01mscipy\u001b[39;00m\u001b[38;5;21;01m.\u001b[39;00m\u001b[38;5;21;01msparse\u001b[39;00m\u001b[38;5;21;01m.\u001b[39;00m\u001b[38;5;21;01mlinalg\u001b[39;00m \u001b[38;5;28;01mimport\u001b[39;00m eigs\n\u001b[0;32m----> 3\u001b[0m eig_vals, eig_vecs \u001b[38;5;241m=\u001b[39m \u001b[43meigs\u001b[49m\u001b[43m(\u001b[49m\u001b[43mq_mat\u001b[49m\u001b[43m,\u001b[49m\u001b[43mk\u001b[49m\u001b[38;5;241;43m=\u001b[39;49m\u001b[38;5;241;43m4\u001b[39;49m\u001b[43m)\u001b[49m\n\u001b[1;32m      4\u001b[0m eig_vals\n",
      "File \u001b[0;32m~/.local/lib/python3.10/site-packages/scipy/sparse/linalg/_eigen/arpack/arpack.py:1355\u001b[0m, in \u001b[0;36meigs\u001b[0;34m(A, k, M, sigma, which, v0, ncv, maxiter, tol, return_eigenvectors, Minv, OPinv, OPpart)\u001b[0m\n\u001b[1;32m   1353\u001b[0m \u001b[38;5;28;01mwith\u001b[39;00m _ARPACK_LOCK:\n\u001b[1;32m   1354\u001b[0m     \u001b[38;5;28;01mwhile\u001b[39;00m \u001b[38;5;129;01mnot\u001b[39;00m params\u001b[38;5;241m.\u001b[39mconverged:\n\u001b[0;32m-> 1355\u001b[0m         \u001b[43mparams\u001b[49m\u001b[38;5;241;43m.\u001b[39;49m\u001b[43miterate\u001b[49m\u001b[43m(\u001b[49m\u001b[43m)\u001b[49m\n\u001b[1;32m   1357\u001b[0m     \u001b[38;5;28;01mreturn\u001b[39;00m params\u001b[38;5;241m.\u001b[39mextract(return_eigenvectors)\n",
      "File \u001b[0;32m~/.local/lib/python3.10/site-packages/scipy/sparse/linalg/_eigen/arpack/arpack.py:760\u001b[0m, in \u001b[0;36m_UnsymmetricArpackParams.iterate\u001b[0;34m(self)\u001b[0m\n\u001b[1;32m    758\u001b[0m     \u001b[38;5;28;01mpass\u001b[39;00m\n\u001b[1;32m    759\u001b[0m \u001b[38;5;28;01melif\u001b[39;00m \u001b[38;5;28mself\u001b[39m\u001b[38;5;241m.\u001b[39minfo \u001b[38;5;241m==\u001b[39m \u001b[38;5;241m1\u001b[39m:\n\u001b[0;32m--> 760\u001b[0m     \u001b[38;5;28;43mself\u001b[39;49m\u001b[38;5;241;43m.\u001b[39;49m\u001b[43m_raise_no_convergence\u001b[49m\u001b[43m(\u001b[49m\u001b[43m)\u001b[49m\n\u001b[1;32m    761\u001b[0m \u001b[38;5;28;01melse\u001b[39;00m:\n\u001b[1;32m    762\u001b[0m     \u001b[38;5;28;01mraise\u001b[39;00m ArpackError(\u001b[38;5;28mself\u001b[39m\u001b[38;5;241m.\u001b[39minfo, infodict\u001b[38;5;241m=\u001b[39m\u001b[38;5;28mself\u001b[39m\u001b[38;5;241m.\u001b[39miterate_infodict)\n",
      "File \u001b[0;32m~/.local/lib/python3.10/site-packages/scipy/sparse/linalg/_eigen/arpack/arpack.py:377\u001b[0m, in \u001b[0;36m_ArpackParams._raise_no_convergence\u001b[0;34m(self)\u001b[0m\n\u001b[1;32m    375\u001b[0m     vec \u001b[38;5;241m=\u001b[39m np\u001b[38;5;241m.\u001b[39mzeros((\u001b[38;5;28mself\u001b[39m\u001b[38;5;241m.\u001b[39mn, \u001b[38;5;241m0\u001b[39m))\n\u001b[1;32m    376\u001b[0m     k_ok \u001b[38;5;241m=\u001b[39m \u001b[38;5;241m0\u001b[39m\n\u001b[0;32m--> 377\u001b[0m \u001b[38;5;28;01mraise\u001b[39;00m ArpackNoConvergence(msg \u001b[38;5;241m%\u001b[39m (num_iter, k_ok, \u001b[38;5;28mself\u001b[39m\u001b[38;5;241m.\u001b[39mk), ev, vec)\n",
      "\u001b[0;31mArpackNoConvergence\u001b[0m: ARPACK error -1: No convergence (900001 iterations, 1/4 eigenvectors converged)"
     ]
    }
   ],
   "source": [
    "\n",
    "q_mat = q_mat_a + q_mat_n\n",
    "from scipy.sparse.linalg import eigs\n",
    "eig_vals, eig_vecs = eigs(q_mat,k=4)\n",
    "eig_vals"
   ]
  },
  {
   "cell_type": "code",
   "execution_count": null,
   "id": "f1697db4",
   "metadata": {},
   "outputs": [],
   "source": [
    "pdf_grid = np.zeros_like(ka)\n",
    "for i in range(len(m)):\n",
    "    for j in range(len(k)):\n",
    "        pdf_grid[i,j] = eig_vecs[0,i+len(m)*j]\n",
    "\n",
    "pdf_k = np.sum(pdf_grid,axis=0)\n",
    "cdf_bcondk = np.matmul(np.cumsum(pdf_grid,axis=0),1/pdf_k)\n",
    "import matplotlib.pyplot as plt"
   ]
  }
 ],
 "metadata": {
  "kernelspec": {
   "display_name": "Python 3",
   "language": "python",
   "name": "python3"
  },
  "language_info": {
   "codemirror_mode": {
    "name": "ipython",
    "version": 3
   },
   "file_extension": ".py",
   "mimetype": "text/x-python",
   "name": "python",
   "nbconvert_exporter": "python",
   "pygments_lexer": "ipython3",
   "version": "3.10.12"
  }
 },
 "nbformat": 4,
 "nbformat_minor": 5
}
